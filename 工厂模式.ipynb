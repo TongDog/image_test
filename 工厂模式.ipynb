{
 "cells": [
  {
   "cell_type": "markdown",
   "source": [
    "# 工厂模式\n",
    "需要创建大量类的示例的时候，可以使用工厂模式\n",
    "即，从原生的使用类的构造去创建对象的形式迁移到基于工厂提供的方法起创建对象的模式"
   ],
   "metadata": {
    "collapsed": false
   },
   "id": "93daf4ce0bcdb659"
  },
  {
   "cell_type": "code",
   "outputs": [],
   "source": [
    "class Person:\n",
    "    pass\n",
    "\n",
    "class Worker(Person):\n",
    "    pass\n",
    "class Student(Person):\n",
    "    pass\n",
    "class Teacher(Person):\n",
    "    pass\n",
    "\n",
    "worker = Worker()\n",
    "student = Student()\n",
    "teacher = Teacher()\n",
    "\n",
    "# 使用工厂模式写\n",
    "# 这样写，在创建大批量对象的时候就可以有一个统一的入口\n",
    "# 当发生修改时，只需要修改工厂类创建的方法即可\n",
    "class Factory:\n",
    "    def get_person(self,p_type):\n",
    "        if p_type == 'w':\n",
    "            return Worker()\n",
    "        elif p_type == 's':\n",
    "            return Student()\n",
    "        elif p_type == 't':\n",
    "            return Teacher()\n",
    "\n",
    "factory = Factory()\n",
    "worker2 = factory.get_person('w')\n",
    "student2 = factory.get_person('s')\n",
    "teacher2 = factory.get_person('t')"
   ],
   "metadata": {
    "collapsed": false
   },
   "id": "b946b7264072e8b"
  }
 ],
 "metadata": {
  "kernelspec": {
   "display_name": "Python 3",
   "language": "python",
   "name": "python3"
  },
  "language_info": {
   "codemirror_mode": {
    "name": "ipython",
    "version": 2
   },
   "file_extension": ".py",
   "mimetype": "text/x-python",
   "name": "python",
   "nbconvert_exporter": "python",
   "pygments_lexer": "ipython2",
   "version": "2.7.6"
  }
 },
 "nbformat": 4,
 "nbformat_minor": 5
}
