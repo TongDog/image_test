{
 "cells": [
  {
   "metadata": {},
   "cell_type": "markdown",
   "source": [
    "# Numpy\n",
    "几个性质：\n",
    "* numpy默认的类型是64位浮点数"
   ],
   "id": "a1850843f34b60f6"
  },
  {
   "cell_type": "code",
   "id": "initial_id",
   "metadata": {
    "collapsed": true,
    "ExecuteTime": {
     "end_time": "2024-04-16T02:01:52.955335Z",
     "start_time": "2024-04-16T02:01:52.773320Z"
    }
   },
   "source": [
    "import numpy as np\n",
    "\n",
    "a = np.array([1, 2, 3])\n",
    "a"
   ],
   "outputs": [
    {
     "data": {
      "text/plain": [
       "array([1, 2, 3])"
      ]
     },
     "execution_count": 1,
     "metadata": {},
     "output_type": "execute_result"
    }
   ],
   "execution_count": 1
  },
  {
   "metadata": {
    "ExecuteTime": {
     "end_time": "2024-04-16T02:02:08.204527Z",
     "start_time": "2024-04-16T02:02:08.201668Z"
    }
   },
   "cell_type": "code",
   "source": [
    "b = np.zeros_like(a) # 创建一个与a形状相同的0数组\n",
    "b"
   ],
   "id": "c890a4a8909a0009",
   "outputs": [
    {
     "data": {
      "text/plain": [
       "array([0, 0, 0])"
      ]
     },
     "execution_count": 3,
     "metadata": {},
     "output_type": "execute_result"
    }
   ],
   "execution_count": 3
  },
  {
   "metadata": {
    "ExecuteTime": {
     "end_time": "2024-04-16T02:03:36.775805Z",
     "start_time": "2024-04-16T02:03:36.771072Z"
    }
   },
   "cell_type": "code",
   "source": [
    "c = np.ones((3,4))\n",
    "c"
   ],
   "id": "fc64bfa0491098e5",
   "outputs": [
    {
     "data": {
      "text/plain": [
       "array([[1., 1., 1., 1.],\n",
       "       [1., 1., 1., 1.],\n",
       "       [1., 1., 1., 1.]])"
      ]
     },
     "execution_count": 7,
     "metadata": {},
     "output_type": "execute_result"
    }
   ],
   "execution_count": 7
  },
  {
   "metadata": {
    "ExecuteTime": {
     "end_time": "2024-04-16T02:03:56.559361Z",
     "start_time": "2024-04-16T02:03:56.554478Z"
    }
   },
   "cell_type": "code",
   "source": [
    "d = np.arange(3,8) #创建递增数组\n",
    "d"
   ],
   "id": "35c36f02e7170364",
   "outputs": [
    {
     "data": {
      "text/plain": [
       "array([3, 4, 5, 6, 7])"
      ]
     },
     "execution_count": 9,
     "metadata": {},
     "output_type": "execute_result"
    }
   ],
   "execution_count": 9
  },
  {
   "metadata": {
    "ExecuteTime": {
     "end_time": "2024-04-16T02:06:01.998075Z",
     "start_time": "2024-04-16T02:06:01.994317Z"
    }
   },
   "cell_type": "code",
   "source": [
    "# 创建介于某个区间，等间距的数组\n",
    "e = np.linspace(1,10,5) # 第一第二个参数是范围，第三个是输出样本的总数\n",
    "e"
   ],
   "id": "1e533e01b2f3d0da",
   "outputs": [
    {
     "data": {
      "text/plain": [
       "array([ 1.  ,  3.25,  5.5 ,  7.75, 10.  ])"
      ]
     },
     "execution_count": 14,
     "metadata": {},
     "output_type": "execute_result"
    }
   ],
   "execution_count": 14
  },
  {
   "metadata": {
    "ExecuteTime": {
     "end_time": "2024-04-16T02:06:28.001056Z",
     "start_time": "2024-04-16T02:06:27.997637Z"
    }
   },
   "cell_type": "code",
   "source": [
    "f = np.random.rand(5) # 随机数\n",
    "f"
   ],
   "id": "59709be5ce2aaf24",
   "outputs": [
    {
     "data": {
      "text/plain": [
       "array([0.89612888, 0.57943021, 0.37446268, 0.9311481 , 0.66542435])"
      ]
     },
     "execution_count": 16,
     "metadata": {},
     "output_type": "execute_result"
    }
   ],
   "execution_count": 16
  },
  {
   "metadata": {
    "ExecuteTime": {
     "end_time": "2024-04-16T02:07:47.672405Z",
     "start_time": "2024-04-16T02:07:47.668186Z"
    }
   },
   "cell_type": "code",
   "source": [
    "# 修改数据类型\n",
    "g = np.zeros((4,2),dtype=np.int32)\n",
    "g"
   ],
   "id": "6c88ba55871f68",
   "outputs": [
    {
     "data": {
      "text/plain": [
       "array([[0, 0],\n",
       "       [0, 0],\n",
       "       [0, 0],\n",
       "       [0, 0]], dtype=int32)"
      ]
     },
     "execution_count": 18,
     "metadata": {},
     "output_type": "execute_result"
    }
   ],
   "execution_count": 18
  },
  {
   "metadata": {
    "ExecuteTime": {
     "end_time": "2024-04-16T02:08:27.898513Z",
     "start_time": "2024-04-16T02:08:27.895690Z"
    }
   },
   "cell_type": "code",
   "source": [
    "# 对于现有的数组，也可以通过astype转换\n",
    "f = f.astype(np.int32)\n",
    "f"
   ],
   "id": "35fd8dc4359dcca4",
   "outputs": [
    {
     "data": {
      "text/plain": [
       "array([0, 0, 0, 0, 0], dtype=int32)"
      ]
     },
     "execution_count": 19,
     "metadata": {},
     "output_type": "execute_result"
    }
   ],
   "execution_count": 19
  },
  {
   "metadata": {},
   "cell_type": "markdown",
   "source": "## 数组运算",
   "id": "6e713329a51ce830"
  },
  {
   "metadata": {
    "ExecuteTime": {
     "end_time": "2024-04-16T02:10:35.568887Z",
     "start_time": "2024-04-16T02:10:35.564267Z"
    }
   },
   "cell_type": "code",
   "source": [
    "# 1. 加减乘除\n",
    "# 会进行同位置加减乘除运算\n",
    "a = np.array([1,2,3])\n",
    "b = np.array([4,5,6])\n",
    "\n",
    "a+b,a-b,a*b,b/a"
   ],
   "id": "1d1ddb0e81fafa22",
   "outputs": [
    {
     "data": {
      "text/plain": [
       "(array([5, 7, 9]),\n",
       " array([-3, -3, -3]),\n",
       " array([ 4, 10, 18]),\n",
       " array([4. , 2.5, 2. ]))"
      ]
     },
     "execution_count": 21,
     "metadata": {},
     "output_type": "execute_result"
    }
   ],
   "execution_count": 21
  },
  {
   "metadata": {
    "ExecuteTime": {
     "end_time": "2024-04-16T02:11:20.103852Z",
     "start_time": "2024-04-16T02:11:20.100064Z"
    }
   },
   "cell_type": "code",
   "source": [
    "# 2.点乘运算\n",
    "c = np.dot(a,b)\n",
    "c"
   ],
   "id": "4e0d4f27b170581a",
   "outputs": [
    {
     "data": {
      "text/plain": [
       "32"
      ]
     },
     "execution_count": 22,
     "metadata": {},
     "output_type": "execute_result"
    }
   ],
   "execution_count": 22
  },
  {
   "metadata": {
    "ExecuteTime": {
     "end_time": "2024-04-16T02:34:21.604203Z",
     "start_time": "2024-04-16T02:34:21.600868Z"
    }
   },
   "cell_type": "code",
   "source": [
    "# 3. 矩阵乘法——使用@符\n",
    "a = np.random.randint(1,10,(5,5))\n",
    "b = np.random.randint(1,10,(5,5))\n",
    "a@b"
   ],
   "id": "43edb6bcb5390e8c",
   "outputs": [
    {
     "data": {
      "text/plain": [
       "array([[ 81, 193, 201, 120, 173],\n",
       "       [ 76, 126, 128,  80, 132],\n",
       "       [ 82, 135, 122,  83, 141],\n",
       "       [ 80, 137, 166, 125, 136],\n",
       "       [ 62, 117, 132, 103, 106]])"
      ]
     },
     "execution_count": 37,
     "metadata": {},
     "output_type": "execute_result"
    }
   ],
   "execution_count": 37
  },
  {
   "metadata": {
    "ExecuteTime": {
     "end_time": "2024-04-16T02:35:40.406839Z",
     "start_time": "2024-04-16T02:35:40.401575Z"
    }
   },
   "cell_type": "code",
   "source": [
    "# 或者使用multmul\n",
    "c = np.matmul(a,b)\n",
    "c"
   ],
   "id": "ec17d8bb93bb1dbd",
   "outputs": [
    {
     "data": {
      "text/plain": [
       "array([[ 81, 193, 201, 120, 173],\n",
       "       [ 76, 126, 128,  80, 132],\n",
       "       [ 82, 135, 122,  83, 141],\n",
       "       [ 80, 137, 166, 125, 136],\n",
       "       [ 62, 117, 132, 103, 106]])"
      ]
     },
     "execution_count": 40,
     "metadata": {},
     "output_type": "execute_result"
    }
   ],
   "execution_count": 40
  },
  {
   "metadata": {
    "ExecuteTime": {
     "end_time": "2024-04-16T02:37:50.707050Z",
     "start_time": "2024-04-16T02:37:50.700990Z"
    }
   },
   "cell_type": "code",
   "source": [
    "# 4.求平方根\n",
    "a = np.random.randint(1,10,(5,5))\n",
    "print(a)\n",
    "np.sqrt(a)"
   ],
   "id": "50b4bcc16cb24720",
   "outputs": [
    {
     "name": "stdout",
     "output_type": "stream",
     "text": [
      "[[2 2 5 8 3]\n",
      " [7 8 5 5 7]\n",
      " [5 7 6 5 4]\n",
      " [1 6 4 7 7]\n",
      " [3 5 8 7 8]]\n"
     ]
    },
    {
     "data": {
      "text/plain": [
       "array([[1.41421356, 1.41421356, 2.23606798, 2.82842712, 1.73205081],\n",
       "       [2.64575131, 2.82842712, 2.23606798, 2.23606798, 2.64575131],\n",
       "       [2.23606798, 2.64575131, 2.44948974, 2.23606798, 2.        ],\n",
       "       [1.        , 2.44948974, 2.        , 2.64575131, 2.64575131],\n",
       "       [1.73205081, 2.23606798, 2.82842712, 2.64575131, 2.82842712]])"
      ]
     },
     "execution_count": 46,
     "metadata": {},
     "output_type": "execute_result"
    }
   ],
   "execution_count": 46
  },
  {
   "metadata": {
    "ExecuteTime": {
     "end_time": "2024-04-16T02:38:22.011719Z",
     "start_time": "2024-04-16T02:38:22.005357Z"
    }
   },
   "cell_type": "code",
   "source": [
    "print(b)\n",
    "np.sin(b)"
   ],
   "id": "71dc94aa6c14453",
   "outputs": [
    {
     "name": "stdout",
     "output_type": "stream",
     "text": [
      "[[3 9 8 8 4]\n",
      " [3 9 6 1 9]\n",
      " [1 1 9 3 4]\n",
      " [5 5 1 4 4]\n",
      " [3 4 7 4 7]]\n"
     ]
    },
    {
     "data": {
      "text/plain": [
       "array([[ 0.14112001,  0.41211849,  0.98935825,  0.98935825, -0.7568025 ],\n",
       "       [ 0.14112001,  0.41211849, -0.2794155 ,  0.84147098,  0.41211849],\n",
       "       [ 0.84147098,  0.84147098,  0.41211849,  0.14112001, -0.7568025 ],\n",
       "       [-0.95892427, -0.95892427,  0.84147098, -0.7568025 , -0.7568025 ],\n",
       "       [ 0.14112001, -0.7568025 ,  0.6569866 , -0.7568025 ,  0.6569866 ]])"
      ]
     },
     "execution_count": 48,
     "metadata": {},
     "output_type": "execute_result"
    }
   ],
   "execution_count": 48
  },
  {
   "metadata": {},
   "cell_type": "code",
   "outputs": [],
   "execution_count": null,
   "source": "",
   "id": "64a0fbde44b87cbe"
  }
 ],
 "metadata": {
  "kernelspec": {
   "display_name": "Python 3",
   "language": "python",
   "name": "python3"
  },
  "language_info": {
   "codemirror_mode": {
    "name": "ipython",
    "version": 2
   },
   "file_extension": ".py",
   "mimetype": "text/x-python",
   "name": "python",
   "nbconvert_exporter": "python",
   "pygments_lexer": "ipython2",
   "version": "2.7.6"
  }
 },
 "nbformat": 4,
 "nbformat_minor": 5
}
