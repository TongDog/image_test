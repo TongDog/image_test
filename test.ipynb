{
 "cells": [
  {
   "cell_type": "code",
   "id": "initial_id",
   "metadata": {
    "collapsed": true,
    "ExecuteTime": {
     "end_time": "2024-04-12T12:01:15.389638Z",
     "start_time": "2024-04-12T12:01:15.382883Z"
    }
   },
   "source": [
    "a = 114514\n",
    "a"
   ],
   "outputs": [
    {
     "data": {
      "text/plain": [
       "114514"
      ]
     },
     "execution_count": 1,
     "metadata": {},
     "output_type": "execute_result"
    }
   ],
   "execution_count": 1
  },
  {
   "metadata": {
    "ExecuteTime": {
     "end_time": "2024-04-12T12:01:23.403482Z",
     "start_time": "2024-04-12T12:01:23.399684Z"
    }
   },
   "cell_type": "code",
   "source": [
    "b = 1919810\n",
    "a+b"
   ],
   "id": "5c257a60ed333a73",
   "outputs": [
    {
     "data": {
      "text/plain": [
       "2034324"
      ]
     },
     "execution_count": 2,
     "metadata": {},
     "output_type": "execute_result"
    }
   ],
   "execution_count": 2
  },
  {
   "metadata": {
    "ExecuteTime": {
     "end_time": "2024-04-12T12:01:32.062192Z",
     "start_time": "2024-04-12T12:01:32.059449Z"
    }
   },
   "cell_type": "code",
   "source": "print(a*b)",
   "id": "bafa60cbe16b5068",
   "outputs": [
    {
     "name": "stdout",
     "output_type": "stream",
     "text": [
      "219845122340\n"
     ]
    }
   ],
   "execution_count": 3
  },
  {
   "metadata": {},
   "cell_type": "code",
   "outputs": [],
   "execution_count": null,
   "source": "",
   "id": "40726592e4ecb93b"
  }
 ],
 "metadata": {
  "kernelspec": {
   "display_name": "Python 3",
   "language": "python",
   "name": "python3"
  },
  "language_info": {
   "codemirror_mode": {
    "name": "ipython",
    "version": 2
   },
   "file_extension": ".py",
   "mimetype": "text/x-python",
   "name": "python",
   "nbconvert_exporter": "python",
   "pygments_lexer": "ipython2",
   "version": "2.7.6"
  }
 },
 "nbformat": 4,
 "nbformat_minor": 5
}
