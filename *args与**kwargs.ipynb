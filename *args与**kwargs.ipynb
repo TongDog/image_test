{
 "cells": [
  {
   "cell_type": "code",
   "outputs": [
    {
     "name": "stdout",
     "output_type": "stream",
     "text": [
      "[2, 3, 4, 5, 6, 7, 8, 9, 10]\n",
      "2 3 4 5 6 7 8 9 10\n"
     ]
    }
   ],
   "source": [
    "nums = [2,3,4,5,6,7,8,9,10]\n",
    "print(nums)\n",
    "#在变量面前加nums为解包\n",
    "print(*nums)"
   ],
   "metadata": {
    "collapsed": false,
    "ExecuteTime": {
     "end_time": "2024-02-04T15:46:36.574587Z",
     "start_time": "2024-02-04T15:46:36.552076Z"
    }
   },
   "id": "627f48415a19c945",
   "execution_count": 1
  },
  {
   "cell_type": "markdown",
   "source": [],
   "metadata": {
    "collapsed": false
   },
   "id": "de89c083d32bf4df"
  },
  {
   "cell_type": "code",
   "outputs": [
    {
     "name": "stdout",
     "output_type": "stream",
     "text": [
      "this size is 3\n",
      "and left of them is (4, 5, 6, 7, 8, 9, 10)\n",
      "4 5 6 7 8 9 10\n",
      "print each of them: \n",
      "4 5 6 7 8 9 10\n"
     ]
    }
   ],
   "source": [
    "# 使用args可以传递任意数量的变量给函数，它会将传入的其他参数打包成一个元组\n",
    "def order(size,*args):# args为惯例命名\n",
    "    print(f\"this size is {size}\")\n",
    "    print(f\"and left of them is {args}\")\n",
    "    print(*args)\n",
    "    print(\"print each of them: \")\n",
    "    print(*(i for i in args))\n",
    "\n",
    "order(3,4,5,6,7,8,9,10)"
   ],
   "metadata": {
    "collapsed": false,
    "ExecuteTime": {
     "end_time": "2024-02-04T15:56:14.098484Z",
     "start_time": "2024-02-04T15:56:14.094508Z"
    }
   },
   "id": "a4b2b5f4a3e82b8e",
   "execution_count": 7
  },
  {
   "cell_type": "code",
   "execution_count": 16,
   "id": "initial_id",
   "metadata": {
    "collapsed": true,
    "ExecuteTime": {
     "end_time": "2024-02-04T16:08:28.728863Z",
     "start_time": "2024-02-04T16:08:28.719291Z"
    }
   },
   "outputs": [
    {
     "name": "stdout",
     "output_type": "stream",
     "text": [
      "this size is 1\n",
      "and left of them is (2, 3, 4, 5, 6, 7, 8, 9, 10)\n",
      "2 3 4 5 6 7 8 9 10\n",
      "dict_items([('other', [11, 12, 13]), ('if_true', 1), ('if_false', 0)])\n",
      "name is other and value is [11, 12, 13]\n",
      "name is if_true and value is 1\n",
      "name is if_false and value is 0\n"
     ]
    }
   ],
   "source": [
    "#kwargs为关键字参数(keyword arguments)\n",
    "#可以传递参数\n",
    "def order_kwargs(size,*args,**kwargs):# kwargs为惯例命名\n",
    "    print(f\"this size is {size}\")\n",
    "    print(f\"and left of them is {args}\")\n",
    "    print(*args)\n",
    "    # print(\"print each of them: \")\n",
    "    # print(*(i for i in args))\n",
    "    \n",
    "    print(kwargs.items())\n",
    "    \n",
    "    # kwargs.value()函数有两个参数key和value，分别是传入的变量的名字和数值\n",
    "    for a,b in kwargs.items():\n",
    "        print(f\"name is {a} and value is {b}\")\n",
    "        #print(b)\n",
    "order_kwargs(1,2,3,4,5,6,7,8,9,10,other = [11,12,13],if_true = 1,if_false =0)"
   ]
  },
  {
   "cell_type": "code",
   "outputs": [],
   "source": [],
   "metadata": {
    "collapsed": false
   },
   "id": "e2b402e1a9fc8663"
  }
 ],
 "metadata": {
  "kernelspec": {
   "display_name": "Python 3",
   "language": "python",
   "name": "python3"
  },
  "language_info": {
   "codemirror_mode": {
    "name": "ipython",
    "version": 2
   },
   "file_extension": ".py",
   "mimetype": "text/x-python",
   "name": "python",
   "nbconvert_exporter": "python",
   "pygments_lexer": "ipython2",
   "version": "2.7.6"
  }
 },
 "nbformat": 4,
 "nbformat_minor": 5
}
