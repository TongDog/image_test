{
 "cells": [
  {
   "cell_type": "code",
   "execution_count": 2,
   "id": "initial_id",
   "metadata": {
    "collapsed": true,
    "ExecuteTime": {
     "end_time": "2024-01-30T06:13:45.277893Z",
     "start_time": "2024-01-30T06:13:45.261109Z"
    }
   },
   "outputs": [
    {
     "name": "stdout",
     "output_type": "stream",
     "text": [
      "asd\n"
     ]
    }
   ],
   "source": [
    "class Student:\n",
    "    name = None\n",
    "    gender = None\n",
    "    nationality = None\n",
    "    native_place = None\n",
    "    age = None\n",
    "    \n",
    "stu1 = Student()\n",
    "\n",
    "stu1.name = \"asd\"\n",
    "stu1.gender  = \"123\"\n",
    "stu1.nationality = \"中国\"\n",
    "stu1.native_place = \"ase\"\n",
    "stu1.age = 31\n",
    "print(stu1.name)"
   ]
  },
  {
   "cell_type": "code",
   "outputs": [
    {
     "name": "stdout",
     "output_type": "stream",
     "text": [
      "你好，我的名字是：一段关系\n",
      "你好，我是一段关系\n",
      "hsd\n"
     ]
    }
   ],
   "source": [
    "# 写在类中的函数被称作成员方法，不叫函数\n",
    "# 写在类中的变量称为成员变量\n",
    "class Student2:\n",
    "    name = None\n",
    "    age = None\n",
    "    \n",
    "    def sayhi(self):# self必须存在，用来表示类对象自身，传参的时候不当作不存在\n",
    "        # 在成员方法中调用成员变量要通过self\n",
    "        print(\"你好，我的名字是：\"+ self.name)\n",
    "        print(f\"你好，我是{self.name}\") # f表示格式化字符串\n",
    "    \n",
    "    def sayhi2(self,msg):\n",
    "        print(msg)\n",
    "        \n",
    "stu2 = Student2()\n",
    "stu2.name = \"一段关系\"\n",
    "stu2.sayhi()\n",
    "stu2.sayhi2(\"hsd\")"
   ],
   "metadata": {
    "collapsed": false,
    "ExecuteTime": {
     "end_time": "2024-01-30T06:14:55.099852Z",
     "start_time": "2024-01-30T06:14:55.074060Z"
    }
   },
   "id": "2b0667bf511cd435",
   "execution_count": 3
  },
  {
   "cell_type": "code",
   "outputs": [
    {
     "ename": "ModuleNotFoundError",
     "evalue": "No module named 'winsound'",
     "output_type": "error",
     "traceback": [
      "\u001B[0;31m---------------------------------------------------------------------------\u001B[0m",
      "\u001B[0;31mModuleNotFoundError\u001B[0m                       Traceback (most recent call last)",
      "Cell \u001B[0;32mIn[4], line 12\u001B[0m\n\u001B[1;32m     10\u001B[0m clock1\u001B[38;5;241m.\u001B[39mid \u001B[38;5;241m=\u001B[39m \u001B[38;5;124m\"\u001B[39m\u001B[38;5;124m123123\u001B[39m\u001B[38;5;124m\"\u001B[39m\n\u001B[1;32m     11\u001B[0m clock1\u001B[38;5;241m.\u001B[39mprice \u001B[38;5;241m=\u001B[39m \u001B[38;5;241m12\u001B[39m\n\u001B[0;32m---> 12\u001B[0m \u001B[43mclock1\u001B[49m\u001B[38;5;241;43m.\u001B[39;49m\u001B[43mring\u001B[49m\u001B[43m(\u001B[49m\u001B[43m)\u001B[49m\n\u001B[1;32m     14\u001B[0m clock2 \u001B[38;5;241m=\u001B[39m Clock()\n\u001B[1;32m     15\u001B[0m clock2\u001B[38;5;241m.\u001B[39mid \u001B[38;5;241m=\u001B[39m \u001B[38;5;124m\"\u001B[39m\u001B[38;5;124m123123\u001B[39m\u001B[38;5;124m\"\u001B[39m\n",
      "Cell \u001B[0;32mIn[4], line 6\u001B[0m, in \u001B[0;36mClock.ring\u001B[0;34m(self)\u001B[0m\n\u001B[1;32m      5\u001B[0m \u001B[38;5;28;01mdef\u001B[39;00m \u001B[38;5;21mring\u001B[39m(\u001B[38;5;28mself\u001B[39m):\n\u001B[0;32m----> 6\u001B[0m     \u001B[38;5;28;01mimport\u001B[39;00m \u001B[38;5;21;01mwinsound\u001B[39;00m\n",
      "\u001B[0;31mModuleNotFoundError\u001B[0m: No module named 'winsound'"
     ]
    }
   ],
   "source": [
    "class Clock:\n",
    "    id = None\n",
    "    price = None\n",
    "    \n",
    "    def ring(self):\n",
    "        # import winsound\n",
    "        #winsound.Beep(2000,3000)\n",
    "        print(\"响铃\")\n",
    "\n",
    "clock1 = Clock()\n",
    "clock1.id = \"123123\"\n",
    "clock1.price = 12\n",
    "clock1.ring()\n",
    "\n",
    "clock2 = Clock()\n",
    "clock2.id = \"123123\"\n",
    "clock2.price = 114\n",
    "clock2.ring()"
   ],
   "metadata": {
    "collapsed": false,
    "ExecuteTime": {
     "end_time": "2024-01-30T06:30:13.449039Z",
     "start_time": "2024-01-30T06:30:13.314645Z"
    }
   },
   "id": "d2c900261d47af05",
   "execution_count": 4
  },
  {
   "cell_type": "code",
   "outputs": [
    {
     "name": "stdout",
     "output_type": "stream",
     "text": [
      "类创建成功\n",
      "Jack,123123,123\n"
     ]
    }
   ],
   "source": [
    "# 在声明对象的时候传参数——使用__init()__\n",
    "# 在构建类时init会自动执行,类似于C++的构造函数\n",
    "class Student3:\n",
    "    name = None\n",
    "    age = None\n",
    "    tel = None\n",
    "    \n",
    "    def __init__(self,name,age,tel):\n",
    "        # 上面的成员变量定义也可以省略\n",
    "        # 如果未定义会自动定义\n",
    "        self.name = name\n",
    "        self.age = age\n",
    "        self.tel = tel\n",
    "        print(\"类创建成功\")\n",
    "    \n",
    "    def output_message(self):\n",
    "        print(\"通过str打印类对象\")\n",
    "        print(f\"{self.name},{self.age},{self.tel}\")\n",
    "\n",
    "stu3 = Student3(\"Jack\",123123,123)\n",
    "stu3.output_message()"
   ],
   "metadata": {
    "collapsed": false,
    "ExecuteTime": {
     "end_time": "2024-01-30T06:35:51.187408Z",
     "start_time": "2024-01-30T06:35:51.173093Z"
    }
   },
   "id": "bd89e72e350fbac2",
   "execution_count": 5
  },
  {
   "cell_type": "code",
   "outputs": [
    {
     "name": "stdout",
     "output_type": "stream",
     "text": [
      "类创建成功\n",
      "Jack,15,123\n",
      "<__main__.Student3 object at 0x1074ed730>\n"
     ]
    }
   ],
   "source": [
    "# __init__构造方法是python的内置方法之一，称作魔术方法\n",
    "# 类似的魔术方法还有__str__,__lt__,__le__,__eq__等\n",
    "class Student4():\n",
    "    # 1.__str__字符串方法\n",
    "    def __init__(self,name,age,tel):\n",
    "        # 上面的成员变量定义也可以省略\n",
    "        # 如果未定义会自动定义\n",
    "        self.name = name\n",
    "        self.age = age\n",
    "        self.tel = tel\n",
    "        print(\"类创建成功\")\n",
    "    \n",
    "    def __str__(self): # 在print类对象时，会执行__str__\n",
    "        return f\"{self.name},{self.age},{self.tel}\"\n",
    "    \n",
    "    def __lt__(self, other): # 对对象进行比较\n",
    "        print(f\"现在比较的年龄是{self.age}与{other}中的{other.age}\")\n",
    "        return self.age < other.age\n",
    "    \n",
    "    def __le__(self,other): # lt只用于大于和小于，而le适用于大于和等于\n",
    "        return self.age <= other.age\n",
    "    \n",
    "    def __eq__(self,other): # eq用于相等判断\n",
    "        return self.age == other \n",
    "    \n",
    "stu4 = Student4(\"Jack\",15,123)\n",
    "print(stu4)\n",
    "\n",
    "# 如果不实用str，那么会打印对象的内存地址\n",
    "print(stu3)"
   ],
   "metadata": {
    "collapsed": false,
    "ExecuteTime": {
     "end_time": "2024-01-30T06:50:26.409599Z",
     "start_time": "2024-01-30T06:50:26.392134Z"
    }
   },
   "id": "465d88f1f06a5790",
   "execution_count": 16
  },
  {
   "cell_type": "code",
   "outputs": [
    {
     "name": "stdout",
     "output_type": "stream",
     "text": [
      "类创建成功\n",
      "现在比较的年龄是15与Jack,12,123123123中的12\n",
      "False\n",
      "现在比较的年龄是12与Jack,15,123中的15\n",
      "True\n"
     ]
    }
   ],
   "source": [
    "# __lt__\n",
    "stu5 = Student4(\"Jack\",12,123123123)\n",
    "print(stu4 < stu5)\n",
    "print(stu4 > stu5) # 这里执行的是stu5<stu4"
   ],
   "metadata": {
    "collapsed": false,
    "ExecuteTime": {
     "end_time": "2024-01-30T06:50:50.178954Z",
     "start_time": "2024-01-30T06:50:50.171876Z"
    }
   },
   "id": "437a3d6d0596071c",
   "execution_count": 18
  },
  {
   "cell_type": "markdown",
   "source": [
    "# 封装"
   ],
   "metadata": {
    "collapsed": false
   },
   "id": "d43702f99e923891"
  },
  {
   "cell_type": "code",
   "outputs": [],
   "source": [
    "class Student5():\n",
    "    def __init__(self,a ,b, c):\n",
    "        self.a = a\n",
    "        self.b = b\n",
    "        self.c = c\n",
    "    \n",
    "    # 私有方法和私有变量,在变量或者方法前加”__“\n",
    "    __d_private = 1\n",
    "    def __sum1_private(self,x):\n",
    "        return x + 114514\n",
    "    \n",
    "    def sum1_public(self,x):\n",
    "        print(\"私有属性b：\", self.__d_private)\n",
    "        return self.__sum1_private(x) # 私有变量和方法只能在class内部调用\n",
    "stu6 = Student5(1,2,3)\n",
    "\n",
    "\n"
   ],
   "metadata": {
    "collapsed": false,
    "ExecuteTime": {
     "end_time": "2024-01-30T07:24:07.669630Z",
     "start_time": "2024-01-30T07:24:07.657929Z"
    }
   },
   "id": "89a1e1604e8e0179",
   "execution_count": 23
  },
  {
   "cell_type": "code",
   "outputs": [
    {
     "name": "stdout",
     "output_type": "stream",
     "text": [
      "私有属性b： 1\n",
      "114520\n"
     ]
    }
   ],
   "source": [
    "print(stu6.sum1_public(6))"
   ],
   "metadata": {
    "collapsed": false,
    "ExecuteTime": {
     "end_time": "2024-01-30T07:24:09.282218Z",
     "start_time": "2024-01-30T07:24:09.275178Z"
    }
   },
   "id": "72163b734b5c0305",
   "execution_count": 24
  },
  {
   "cell_type": "code",
   "outputs": [
    {
     "ename": "AttributeError",
     "evalue": "'Student5' object has no attribute 'd_private'",
     "output_type": "error",
     "traceback": [
      "\u001B[0;31m---------------------------------------------------------------------------\u001B[0m",
      "\u001B[0;31mAttributeError\u001B[0m                            Traceback (most recent call last)",
      "Cell \u001B[0;32mIn[25], line 1\u001B[0m\n\u001B[0;32m----> 1\u001B[0m \u001B[38;5;28mprint\u001B[39m(\u001B[43mstu6\u001B[49m\u001B[38;5;241;43m.\u001B[39;49m\u001B[43md_private\u001B[49m)\u001B[38;5;66;03m# 会报错\u001B[39;00m\n\u001B[1;32m      2\u001B[0m \u001B[38;5;66;03m# print(stu6.__sum1_private(6)) # 也会报错\u001B[39;00m\n",
      "\u001B[0;31mAttributeError\u001B[0m: 'Student5' object has no attribute 'd_private'"
     ]
    }
   ],
   "source": [
    "print(stu6.d_private)# 会报错\n",
    "# print(stu6.__sum1_private(6)) # 也会报错"
   ],
   "metadata": {
    "collapsed": false,
    "ExecuteTime": {
     "end_time": "2024-01-30T07:24:20.791296Z",
     "start_time": "2024-01-30T07:24:20.772887Z"
    }
   },
   "id": "1dec8b024a094e24",
   "execution_count": 25
  },
  {
   "cell_type": "markdown",
   "source": [
    "# 继承"
   ],
   "metadata": {
    "collapsed": false
   },
   "id": "814fb18ba447f4c9"
  },
  {
   "cell_type": "code",
   "source": [
    "class Phone:\n",
    "    item = \"这是手机1号\"\n",
    "    data = 1\n",
    "    def call_by_4G(self):\n",
    "        print(\"4G通话\")\n",
    "    \n",
    "    def Update_Data(self,x):\n",
    "        return x+114514\n",
    "\n",
    "# 继承\n",
    "class Phone2(Phone):\n",
    "    data2 = 2\n",
    "    def call_by_5G(self):\n",
    "        print(self.item)\n",
    "        print(\"5G通话\")\n",
    "        return self.Update_Data(self.data2)\n",
    "\n",
    "phone = Phone2()\n",
    "print(phone.call_by_5G())"
   ],
   "metadata": {
    "collapsed": false,
    "ExecuteTime": {
     "end_time": "2024-04-15T07:06:07.586197Z",
     "start_time": "2024-04-15T07:06:07.582431Z"
    }
   },
   "id": "a88cf078c45f4c1",
   "outputs": [
    {
     "name": "stdout",
     "output_type": "stream",
     "text": [
      "这是手机1号\n",
      "5G通话\n",
      "114516\n"
     ]
    }
   ],
   "execution_count": 2
  },
  {
   "cell_type": "markdown",
   "source": [
    "## 多继承"
   ],
   "metadata": {
    "collapsed": false
   },
   "id": "4ae6a52686bf3130"
  },
  {
   "cell_type": "code",
   "source": [
    "class TestClass:\n",
    "    def __init__(self,a,b):\n",
    "        self.fist = a\n",
    "\n",
    "class AnotherPhone:\n",
    "    def __init__(self,a,b):\n",
    "        print(\"继承了这个类\")\n",
    "        self.a = a\n",
    "        self.b = b\n",
    "    \n",
    "    def inheritance_test(self,x):\n",
    "        print(\"也继承了这个方法\")\n",
    "class Phone3(Phone,AnotherPhone):\n",
    "    def __init__(self):\n",
    "        super().__init__(1,2) # super只能调用一次，而且最好是最左边的类\n",
    "        print(\"这里是phone3的init\")\n",
    "    def test(self):\n",
    "        print(\"这里是phone3\")\n",
    "        \n",
    "phone2 = Phone3()"
   ],
   "metadata": {
    "collapsed": false,
    "ExecuteTime": {
     "end_time": "2024-04-15T07:06:11.223273Z",
     "start_time": "2024-04-15T07:06:11.218386Z"
    }
   },
   "id": "d6ccbacca6135cf7",
   "outputs": [
    {
     "name": "stdout",
     "output_type": "stream",
     "text": [
      "继承了这个类\n",
      "这里是phone3的init\n"
     ]
    }
   ],
   "execution_count": 3
  },
  {
   "metadata": {
    "ExecuteTime": {
     "end_time": "2024-04-15T07:10:54.928641Z",
     "start_time": "2024-04-15T07:10:54.923832Z"
    }
   },
   "cell_type": "code",
   "source": [
    "# 也可以同时调用两个构造函数：\n",
    "class B:\n",
    "    def __init__(self):\n",
    "        print(\"B的构造函数被调用\")\n",
    "    \n",
    "    \n",
    "\n",
    "class C:\n",
    "    def __init__(self):\n",
    "        print(\"C的构造函数被调用\")\n",
    "    def print_test(self):\n",
    "        print(\"C中的print_test方法被调用\")\n",
    "\n",
    "class A(B, C):\n",
    "    def __init__(self):\n",
    "        B.__init__(self)  # 明确调用B的构造函数\n",
    "        C.__init__(self)  # 明确调用C的构造函数\n",
    "        self.print_test()   # 调用C的print_test方法\n",
    "\n",
    "# 创建A的实例\n",
    "a = A()\n"
   ],
   "id": "6412cb37ae9cef81",
   "outputs": [
    {
     "name": "stdout",
     "output_type": "stream",
     "text": [
      "B的构造函数被调用\n",
      "C的构造函数被调用\n",
      "C中的print_test方法被调用\n"
     ]
    }
   ],
   "execution_count": 9
  },
  {
   "metadata": {},
   "cell_type": "markdown",
   "source": "### 继承列表问题",
   "id": "b23ef09c809fafd8"
  },
  {
   "metadata": {
    "ExecuteTime": {
     "end_time": "2024-04-15T07:14:56.898005Z",
     "start_time": "2024-04-15T07:14:56.893055Z"
    }
   },
   "cell_type": "code",
   "source": [
    "# 如果A同时继承B和C，那么左边的优先级会高于右边\n",
    "# 也可以同时调用两个构造函数：\n",
    "class B:\n",
    "    def __init__(self):\n",
    "        print(\"B的构造函数被调用\")\n",
    "    \n",
    "    def print_test(self):\n",
    "        print(\"B中的构造函数被调用\")\n",
    "class C:\n",
    "    def __init__(self):\n",
    "        print(\"C的构造函数被调用\")\n",
    "    def print_test(self):\n",
    "        print(\"C中的print_test方法被调用\")\n",
    "\n",
    "class A(B, C):\n",
    "    def __init__(self):\n",
    "        B.__init__(self)  # 明确调用B的构造函数\n",
    "        C.__init__(self)  # 明确调用C的构造函数\n",
    "        self.print_test()   # 调用C的print_test方法\n",
    "\n",
    "# 创建A的实例\n",
    "a = A()"
   ],
   "id": "949af7aa8d4e08c2",
   "outputs": [
    {
     "name": "stdout",
     "output_type": "stream",
     "text": [
      "B的构造函数被调用\n",
      "C的构造函数被调用\n",
      "B中的构造函数被调用\n"
     ]
    }
   ],
   "execution_count": 11
  },
  {
   "cell_type": "code",
   "source": [
    "# 如果与父类的方法名称一致\n",
    "class Phone4:\n",
    "    brand = \"华子\"\n",
    "    def Function_test(self):\n",
    "        print(\"这是第一个类的\")\n",
    "    \n",
    "    def Function2(self):\n",
    "        print(\"最左边的类\")\n",
    "class Phone5():\n",
    "    brand = \"小米\"\n",
    "    def Function_test(self):\n",
    "        print(\"这是第二个类的\")\n",
    "    \n",
    "    def Function2(self):\n",
    "        print(\"右边的类\")\n",
    "class Phone6(Phone4):\n",
    "    brand = \"顶针\"\n",
    "    def Function_test(self):\n",
    "        print(\"这是第三个类的\")\n",
    "\n",
    "class Phone7(Phone6):\n",
    "    pass #占位语句\n",
    "phone3 = Phone6()\n",
    "print(phone3.brand)\n",
    "phone3.Function_test()\n",
    "phone3.Function2()\n",
    "\n",
    "phone4 = Phone7()"
   ],
   "metadata": {
    "collapsed": false,
    "ExecuteTime": {
     "end_time": "2024-04-15T07:13:42.791896Z",
     "start_time": "2024-04-15T07:13:42.787694Z"
    }
   },
   "id": "45fd9eddcf5124c",
   "outputs": [
    {
     "name": "stdout",
     "output_type": "stream",
     "text": [
      "顶针\n",
      "这是第三个类的\n",
      "最左边的类\n"
     ]
    }
   ],
   "execution_count": 10
  },
  {
   "cell_type": "markdown",
   "source": [
    "# 复写"
   ],
   "metadata": {
    "collapsed": false
   },
   "id": "5199059268df03da"
  },
  {
   "cell_type": "code",
   "outputs": [
    {
     "name": "stdout",
     "output_type": "stream",
     "text": [
      "品牌:apple\n",
      "发布时间为2018-05-27\n",
      "版本:1.1.1\n",
      "父类的生产商是china\n",
      "apple\n"
     ]
    }
   ],
   "source": [
    "class pad:\n",
    "    brand = 'apple'\n",
    "    producer = 'china'\n",
    "    def print_brand(self):\n",
    "        print(self.brand)\n",
    "    \n",
    "class new_pad(pad):\n",
    "    publish_time = '2018-05-27'\n",
    "    producer = 'india'\n",
    "    def print_brand(self,version): \n",
    "        print(\"品牌:{}\".format(self.brand))\n",
    "        print(\"发布时间为{}\".format(self.publish_time))\n",
    "        print(\"版本:{}\".format(version))\n",
    "    def invoke_same_father_function(self):\n",
    "        # 可以使用 父类名.成员变量 来调用\n",
    "        print(\"父类的生产商是{}\".format(pad.producer)) # 调用父类的变量（被子类复写的）\n",
    "        pad.print_brand(self)  # 调用父类被复写的方法\n",
    "        \n",
    "    def invoke_same_mother_function2(self): #还可以使用super来实现\n",
    "        print(\"父类的生产商是{}\".format(super().producer))\n",
    "        super().print_brand()\n",
    "ipad = new_pad()\n",
    "ipad.print_brand('1.1.1')\n",
    "ipad.invoke_same_father_function()"
   ],
   "metadata": {
    "collapsed": false,
    "ExecuteTime": {
     "end_time": "2024-01-30T08:38:43.073185Z",
     "start_time": "2024-01-30T08:38:43.068882Z"
    }
   },
   "id": "a4bc010bbfc5dfa7",
   "execution_count": 39
  },
  {
   "cell_type": "code",
   "outputs": [
    {
     "name": "stdout",
     "output_type": "stream",
     "text": [
      "父类的生产商是china\n",
      "apple\n"
     ]
    }
   ],
   "source": [
    "ipad.invoke_same_mother_function2()"
   ],
   "metadata": {
    "collapsed": false,
    "ExecuteTime": {
     "end_time": "2024-01-30T08:38:50.193964Z",
     "start_time": "2024-01-30T08:38:50.182828Z"
    }
   },
   "id": "92f42e7e470efcc4",
   "execution_count": 40
  },
  {
   "metadata": {},
   "cell_type": "markdown",
   "source": "",
   "id": "daf7d76aeccadc82"
  },
  {
   "cell_type": "markdown",
   "source": [
    "# 变量类型注解"
   ],
   "metadata": {
    "collapsed": false
   },
   "id": "6b69d5fb5ea22bc3"
  },
  {
   "cell_type": "code",
   "source": [
    "var_1 : int = 10\n",
    "var_2 : list = []\n",
    "var_2.append(var_1)\n",
    "var_3 : tuple[str,int,bool] = ()"
   ],
   "metadata": {
    "collapsed": false,
    "ExecuteTime": {
     "end_time": "2024-04-15T07:15:49.309656Z",
     "start_time": "2024-04-15T07:15:49.307412Z"
    }
   },
   "id": "c8c1e2d88f080249",
   "outputs": [],
   "execution_count": 12
  },
  {
   "metadata": {
    "ExecuteTime": {
     "end_time": "2024-04-15T07:21:23.454445Z",
     "start_time": "2024-04-15T07:21:23.451669Z"
    }
   },
   "cell_type": "code",
   "source": [
    "class Test:\n",
    "    __password = \"<PASSWORD>\"\n",
    "    \n",
    "    def input_password(self,password:str):\n",
    "        self.__password = password\n",
    "    \n",
    "    def print_password(self):\n",
    "        print(self.__password)\n",
    "test = Test()\n",
    "\n",
    "test.input_password('asdasda')\n",
    "test.print_password()"
   ],
   "id": "cf199f211d330509",
   "outputs": [
    {
     "name": "stdout",
     "output_type": "stream",
     "text": [
      "asdasda\n"
     ]
    }
   ],
   "execution_count": 13
  },
  {
   "metadata": {},
   "cell_type": "code",
   "outputs": [],
   "execution_count": null,
   "source": "",
   "id": "3bf80f660642b77b"
  }
 ],
 "metadata": {
  "kernelspec": {
   "display_name": "Python 3",
   "language": "python",
   "name": "python3"
  },
  "language_info": {
   "codemirror_mode": {
    "name": "ipython",
    "version": 2
   },
   "file_extension": ".py",
   "mimetype": "text/x-python",
   "name": "python",
   "nbconvert_exporter": "python",
   "pygments_lexer": "ipython2",
   "version": "2.7.6"
  }
 },
 "nbformat": 4,
 "nbformat_minor": 5
}
