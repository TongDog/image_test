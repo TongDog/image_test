{
 "cells": [
  {
   "cell_type": "code",
   "execution_count": 4,
   "id": "initial_id",
   "metadata": {
    "collapsed": true,
    "ExecuteTime": {
     "end_time": "2024-02-06T07:29:57.968832Z",
     "start_time": "2024-02-06T07:29:57.965618Z"
    }
   },
   "outputs": [
    {
     "name": "stdout",
     "output_type": "stream",
     "text": [
      "singsingsing\n",
      "\n",
      "dancedancedance\n"
     ]
    }
   ],
   "source": [
    "import threading\n",
    "import  time\n",
    "\n",
    "def sing():\n",
    "    for i in range(100):\n",
    "        print(\"singsingsing\\n\")\n",
    "        time.sleep(2)\n",
    "\n",
    "def dance():\n",
    "    for j in range(100):\n",
    "        print(\"dancedancedance\\n\")\n",
    "        time.sleep(1)\n",
    "\n",
    "if __name__ == '__main__':\n",
    "    thread1 = threading.Thread(target=sing)\n",
    "    thread2 = threading.Thread(target=dance)\n",
    "    \n",
    "    thread1.start()\n",
    "    thread2.start()"
   ]
  },
  {
   "cell_type": "code",
   "outputs": [],
   "source": [],
   "metadata": {
    "collapsed": false
   },
   "id": "dbb912c081508ff6"
  }
 ],
 "metadata": {
  "kernelspec": {
   "display_name": "Python 3",
   "language": "python",
   "name": "python3"
  },
  "language_info": {
   "codemirror_mode": {
    "name": "ipython",
    "version": 2
   },
   "file_extension": ".py",
   "mimetype": "text/x-python",
   "name": "python",
   "nbconvert_exporter": "python",
   "pygments_lexer": "ipython2",
   "version": "2.7.6"
  }
 },
 "nbformat": 4,
 "nbformat_minor": 5
}
