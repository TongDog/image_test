{
 "cells": [
  {
   "cell_type": "code",
   "execution_count": 1,
   "id": "initial_id",
   "metadata": {
    "collapsed": true,
    "ExecuteTime": {
     "end_time": "2024-02-06T03:37:33.766086Z",
     "start_time": "2024-02-06T03:37:33.762404Z"
    }
   },
   "outputs": [
    {
     "name": "stdout",
     "output_type": "stream",
     "text": [
      "<__main__.Tool object at 0x105315ca0>\n",
      "<__main__.Tool object at 0x105315d00>\n",
      "<__main__.Tool object at 0x105315ca0>\n"
     ]
    }
   ],
   "source": [
    "class Tool:\n",
    "    pass\n",
    "\n",
    "t1 = Tool()\n",
    "t2 = Tool()\n",
    "t3 = t1\n",
    "print(t1)\n",
    "print(t2)\n",
    "print(t3)# 会发现t1与t3地址相同"
   ]
  },
  {
   "cell_type": "code",
   "outputs": [
    {
     "name": "stdout",
     "output_type": "stream",
     "text": [
      "5777926240\n",
      "5777926240\n"
     ]
    }
   ],
   "source": [
    "# 单例模式；不管创建多少次对象，得到的都是同一个对象\n",
    "# 保证一个类只有一个实例,并提供一个访问它的全局访问点\n",
    "from singleton_pattern import str_tool\n",
    "\n",
    "s1 = str_tool\n",
    "s2 = str_tool\n",
    "print(id(s1))\n",
    "print(id(s2))\n",
    "# 其实就相当于上面的 t3= t1"
   ],
   "metadata": {
    "collapsed": false,
    "ExecuteTime": {
     "end_time": "2024-02-06T06:50:00.781538Z",
     "start_time": "2024-02-06T06:50:00.777769Z"
    }
   },
   "id": "279be9f82c5d6df2",
   "execution_count": 4
  },
  {
   "cell_type": "code",
   "outputs": [],
   "source": [],
   "metadata": {
    "collapsed": false
   },
   "id": "c69dc63621d9e0b2"
  }
 ],
 "metadata": {
  "kernelspec": {
   "display_name": "Python 3",
   "language": "python",
   "name": "python3"
  },
  "language_info": {
   "codemirror_mode": {
    "name": "ipython",
    "version": 2
   },
   "file_extension": ".py",
   "mimetype": "text/x-python",
   "name": "python",
   "nbconvert_exporter": "python",
   "pygments_lexer": "ipython2",
   "version": "2.7.6"
  }
 },
 "nbformat": 4,
 "nbformat_minor": 5
}
