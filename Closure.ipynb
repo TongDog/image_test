{
 "cells": [
  {
   "cell_type": "code",
   "execution_count": 4,
   "id": "initial_id",
   "metadata": {
    "collapsed": true,
    "ExecuteTime": {
     "end_time": "2024-01-31T08:17:38.247165Z",
     "start_time": "2024-01-31T08:17:38.242465Z"
    }
   },
   "outputs": [
    {
     "name": "stdout",
     "output_type": "stream",
     "text": [
      "<kags>大家好啊<kags>\n",
      "<kags>芝士雪豹<kags>\n",
      "<function outer.<locals>.inner at 0x1078cd3a0>\n"
     ]
    }
   ],
   "source": [
    "# 简单闭包\n",
    "def outer(logo):\n",
    "    \n",
    "    def inner(msg):\n",
    "        print(f\"<{logo}>{msg}<{logo}>\")\n",
    "    \n",
    "    return inner\n",
    "\n",
    "fn1 = outer(\"kags\")\n",
    "fn1(\"大家好啊\")\n",
    "fn1(\"芝士雪豹\")\n",
    "\n",
    "fn2 = outer(\"博德之门\")\n",
    "print(fn2)\n",
    "# outer返回的是一个函数，再调用fn1使用的就是inner函数"
   ]
  },
  {
   "cell_type": "code",
   "outputs": [
    {
     "name": "stdout",
     "output_type": "stream",
     "text": [
      "11\n"
     ]
    }
   ],
   "source": [
    "def outer2(num1):\n",
    "    \n",
    "    def inner(num2):\n",
    "        nonlocal num1 # 在内部函数修改外部函数的参数需要加一个nonlocal\n",
    "        num1 += num2\n",
    "        print(num1)\n",
    "    \n",
    "    return inner\n",
    "\n",
    "fn3 = outer2(1)\n",
    "fn3(10)"
   ],
   "metadata": {
    "collapsed": false,
    "ExecuteTime": {
     "end_time": "2024-02-01T01:22:16.670762Z",
     "start_time": "2024-02-01T01:22:16.664645Z"
    }
   },
   "id": "2ff96d148afedf7f",
   "execution_count": 5
  },
  {
   "cell_type": "code",
   "outputs": [
    {
     "name": "stdout",
     "output_type": "stream",
     "text": [
      "存款+100,账户余额100\n",
      "存款+200,账户余额300\n",
      "取款-100,账户余额200\n"
     ]
    }
   ],
   "source": [
    "# 使用闭包可以避免使用全局的变量，安全\n",
    "def account_create(inital_amount=0):\n",
    "    \n",
    "    def atm(num,deposit=True):\n",
    "        nonlocal inital_amount\n",
    "        if deposit:\n",
    "            inital_amount += num\n",
    "            print(f'存款+{num},账户余额{inital_amount}')\n",
    "        else:\n",
    "            inital_amount -= num\n",
    "            print(f'取款-{num},账户余额{inital_amount}')\n",
    "\n",
    "    return atm\n",
    "\n",
    "atm = account_create()\n",
    "atm(100)\n",
    "atm(200)\n",
    "atm(100,False)"
   ],
   "metadata": {
    "collapsed": false,
    "ExecuteTime": {
     "end_time": "2024-02-01T01:28:28.092910Z",
     "start_time": "2024-02-01T01:28:28.086466Z"
    }
   },
   "id": "c06e54bf34afcf28",
   "execution_count": 7
  },
  {
   "cell_type": "code",
   "outputs": [
    {
     "name": "stdout",
     "output_type": "stream",
     "text": [
      "sleep\n",
      "sleeping\n",
      "awake\n",
      "sleep\n",
      "sleeping\n",
      "awake\n"
     ]
    }
   ],
   "source": [
    "def outer_decoration(func):\n",
    "    def inner():\n",
    "        print(\"sleep\")\n",
    "        func()\n",
    "        print(\"awake\")\n",
    "    return inner\n",
    "\n",
    "def sleep():\n",
    "    import random\n",
    "    import time\n",
    "    print(\"sleeping\")\n",
    "    time.sleep(1)\n",
    "\n",
    "fn = outer_decoration(sleep)\n",
    "fn()\n",
    "\n",
    "# 语法糖写法\n",
    "@outer_decoration\n",
    "def sleep2(): # 本质上是把sleep作为参数传入outer中了\n",
    "    import time\n",
    "    print(\"sleeping\")\n",
    "    time.sleep(1)\n",
    "\n",
    "\n",
    "sleep2()\n"
   ],
   "metadata": {
    "collapsed": false,
    "ExecuteTime": {
     "end_time": "2024-02-06T03:28:59.753161Z",
     "start_time": "2024-02-06T03:28:57.740384Z"
    }
   },
   "id": "5ee6c26ef281cc5f",
   "execution_count": 4
  },
  {
   "cell_type": "code",
   "outputs": [],
   "source": [],
   "metadata": {
    "collapsed": false
   },
   "id": "fc3ce869d31020ce"
  }
 ],
 "metadata": {
  "kernelspec": {
   "display_name": "Python 3",
   "language": "python",
   "name": "python3"
  },
  "language_info": {
   "codemirror_mode": {
    "name": "ipython",
    "version": 2
   },
   "file_extension": ".py",
   "mimetype": "text/x-python",
   "name": "python",
   "nbconvert_exporter": "python",
   "pygments_lexer": "ipython2",
   "version": "2.7.6"
  }
 },
 "nbformat": 4,
 "nbformat_minor": 5
}
